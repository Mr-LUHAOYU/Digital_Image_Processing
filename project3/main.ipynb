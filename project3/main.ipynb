{
 "cells": [
  {
   "cell_type": "code",
   "outputs": [],
   "source": [
    "import numpy as np\n",
    "import sympy as sp\n",
    "from IPython.core.interactiveshell import InteractiveShell\n",
    "InteractiveShell.ast_node_interactivity = \"all\""
   ],
   "metadata": {
    "collapsed": false,
    "ExecuteTime": {
     "end_time": "2024-12-15T04:58:06.556425200Z",
     "start_time": "2024-12-15T04:58:05.880555300Z"
    }
   },
   "id": "d582b4b99a1dddac",
   "execution_count": 1
  },
  {
   "cell_type": "code",
   "outputs": [],
   "source": [
    "#  简单均值滤波器\n",
    "def mean_filter(img, k=3, func=lambda x: x):\n",
    "    H, W = img.shape\n",
    "    out = np.zeros((H, W))\n",
    "    for i in range(H):\n",
    "        for j in range(W):\n",
    "            if i < k//2 or i >= H-k//2 or j < k//2 or j >= W-k//2:\n",
    "                out[i, j] = img[i, j]\n",
    "            else:\n",
    "                out[i, j] = np.mean(img[i-k//2:i+k//2+1, j-k//2:j+k//2+1])\n",
    "                out[i, j] = func(out[i, j])\n",
    "    return out\n"
   ],
   "metadata": {
    "collapsed": false,
    "ExecuteTime": {
     "end_time": "2024-12-15T04:58:06.565042500Z",
     "start_time": "2024-12-15T04:58:06.558021800Z"
    }
   },
   "id": "ff81f7ff0e98375f",
   "execution_count": 2
  },
  {
   "cell_type": "code",
   "outputs": [],
   "source": [
    "# 高斯滤波器\n",
    "def gaussian_filter(img, k=3, sigma=0.8, func=lambda x: x):\n",
    "    H, W = img.shape\n",
    "    out = np.zeros((H, W))\n",
    "    for i in range(H):\n",
    "        for j in range(W):\n",
    "            if i < k//2 or i >= H-k//2 or j < k//2 or j >= W-k//2:\n",
    "                out[i, j] = img[i, j]\n",
    "            else:\n",
    "                kernel = np.zeros((k, k))\n",
    "                for x in range(k):\n",
    "                    for y in range(k):\n",
    "                        kernel[x, y] = np.exp(-(x**2+y**2)/(2*sigma**2))\n",
    "                kernel /= np.sum(kernel)\n",
    "                out[i, j] = np.sum(img[i-k//2:i+k//2+1, j-k//2:j+k//2+1]*kernel)\n",
    "                out[i, j] = func(out[i, j])\n",
    "    return out\n"
   ],
   "metadata": {
    "collapsed": false,
    "ExecuteTime": {
     "end_time": "2024-12-15T04:58:06.566043300Z",
     "start_time": "2024-12-15T04:58:06.562025400Z"
    }
   },
   "id": "cd0b29f7e257e575",
   "execution_count": 3
  },
  {
   "cell_type": "code",
   "outputs": [],
   "source": [
    "#  扩展图像到5x5\n",
    "def extend_image(img):\n",
    "    new_img = np.zeros((5, 5), dtype=int)\n",
    "    for i in range(5):\n",
    "        for j in range(5):\n",
    "            if 1 <= i <= 3 and 1 <= j <= 3:\n",
    "                new_img[i, j] = img[i-1, j-1]\n",
    "    return new_img\n"
   ],
   "metadata": {
    "collapsed": false,
    "ExecuteTime": {
     "end_time": "2024-12-15T04:58:06.574752600Z",
     "start_time": "2024-12-15T04:58:06.568245Z"
    }
   },
   "id": "ecc227d95289c364",
   "execution_count": 4
  },
  {
   "cell_type": "markdown",
   "source": [
    "# 生成6.2,6.3的图像"
   ],
   "metadata": {
    "collapsed": false
   },
   "id": "4202e600b53ae198"
  },
  {
   "cell_type": "code",
   "outputs": [
    {
     "data": {
      "text/plain": "Matrix([\n[0, 0, 0, 0, 0],\n[0, 5, 1, 6, 0],\n[0, 4, 6, 3, 0],\n[0, 7, 2, 1, 0],\n[0, 0, 0, 0, 0]])",
      "text/latex": "$\\displaystyle \\left[\\begin{matrix}0 & 0 & 0 & 0 & 0\\\\0 & 5 & 1 & 6 & 0\\\\0 & 4 & 6 & 3 & 0\\\\0 & 7 & 2 & 1 & 0\\\\0 & 0 & 0 & 0 & 0\\end{matrix}\\right]$"
     },
     "execution_count": 5,
     "metadata": {},
     "output_type": "execute_result"
    }
   ],
   "source": [
    "g = np.array([[5, 1, 6], [4, 6, 3], [7, 2, 1]])\n",
    "g = extend_image(g)\n",
    "sp.Matrix(g)"
   ],
   "metadata": {
    "collapsed": false,
    "ExecuteTime": {
     "end_time": "2024-12-15T04:58:06.606849400Z",
     "start_time": "2024-12-15T04:58:06.577199600Z"
    }
   },
   "id": "3666f62252cbbc65",
   "execution_count": 5
  },
  {
   "cell_type": "markdown",
   "source": [
    "# 6.2均值滤波器"
   ],
   "metadata": {
    "collapsed": false
   },
   "id": "c4df125ea3a9815e"
  },
  {
   "cell_type": "code",
   "outputs": [
    {
     "data": {
      "text/plain": "Matrix([\n[0.0,    0.0,    0.0,    0.0, 0.0],\n[0.0, 1.7778, 2.7778, 1.7778, 0.0],\n[0.0, 2.7778, 3.8889, 2.1111, 0.0],\n[0.0, 2.1111, 2.5556, 1.3333, 0.0],\n[0.0,    0.0,    0.0,    0.0, 0.0]])",
      "text/latex": "$\\displaystyle \\left[\\begin{matrix}0.0 & 0.0 & 0.0 & 0.0 & 0.0\\\\0.0 & 1.7778 & 2.7778 & 1.7778 & 0.0\\\\0.0 & 2.7778 & 3.8889 & 2.1111 & 0.0\\\\0.0 & 2.1111 & 2.5556 & 1.3333 & 0.0\\\\0.0 & 0.0 & 0.0 & 0.0 & 0.0\\end{matrix}\\right]$"
     },
     "execution_count": 6,
     "metadata": {},
     "output_type": "execute_result"
    },
    {
     "data": {
      "text/plain": "Matrix([\n[0.0, 0.0, 0.0, 0.0, 0.0],\n[0.0, 2.0, 3.0, 2.0, 0.0],\n[0.0, 3.0, 4.0, 2.0, 0.0],\n[0.0, 2.0, 3.0, 1.0, 0.0],\n[0.0, 0.0, 0.0, 0.0, 0.0]])",
      "text/latex": "$\\displaystyle \\left[\\begin{matrix}0.0 & 0.0 & 0.0 & 0.0 & 0.0\\\\0.0 & 2.0 & 3.0 & 2.0 & 0.0\\\\0.0 & 3.0 & 4.0 & 2.0 & 0.0\\\\0.0 & 2.0 & 3.0 & 1.0 & 0.0\\\\0.0 & 0.0 & 0.0 & 0.0 & 0.0\\end{matrix}\\right]$"
     },
     "execution_count": 6,
     "metadata": {},
     "output_type": "execute_result"
    }
   ],
   "source": [
    "sp.Matrix(mean_filter(g, 3, lambda x: round(x, 4)))\n",
    "sp.Matrix(mean_filter(g, 3, lambda x: round(x)), dtype=int)"
   ],
   "metadata": {
    "collapsed": false,
    "ExecuteTime": {
     "end_time": "2024-12-15T04:58:06.606849400Z",
     "start_time": "2024-12-15T04:58:06.579202500Z"
    }
   },
   "id": "a4583a863a759397",
   "execution_count": 6
  },
  {
   "cell_type": "markdown",
   "source": [
    "# 6.3高斯滤波器, $\\sigma=0.8$"
   ],
   "metadata": {
    "collapsed": false
   },
   "id": "fdbf124e1f454114"
  },
  {
   "cell_type": "code",
   "outputs": [
    {
     "data": {
      "text/plain": "Matrix([\n[0.0,    0.0,    0.0,    0.0, 0.0],\n[0.0, 0.5144, 1.2955, 0.9043, 0.0],\n[0.0, 1.5239, 4.0884, 3.2061, 0.0],\n[0.0, 1.5973, 4.6659, 3.7683, 0.0],\n[0.0,    0.0,    0.0,    0.0, 0.0]])",
      "text/latex": "$\\displaystyle \\left[\\begin{matrix}0.0 & 0.0 & 0.0 & 0.0 & 0.0\\\\0.0 & 0.5144 & 1.2955 & 0.9043 & 0.0\\\\0.0 & 1.5239 & 4.0884 & 3.2061 & 0.0\\\\0.0 & 1.5973 & 4.6659 & 3.7683 & 0.0\\\\0.0 & 0.0 & 0.0 & 0.0 & 0.0\\end{matrix}\\right]$"
     },
     "execution_count": 7,
     "metadata": {},
     "output_type": "execute_result"
    },
    {
     "data": {
      "text/plain": "Matrix([\n[0.0, 0.0, 0.0, 0.0, 0.0],\n[0.0, 1.0, 1.0, 1.0, 0.0],\n[0.0, 2.0, 4.0, 3.0, 0.0],\n[0.0, 2.0, 5.0, 4.0, 0.0],\n[0.0, 0.0, 0.0, 0.0, 0.0]])",
      "text/latex": "$\\displaystyle \\left[\\begin{matrix}0.0 & 0.0 & 0.0 & 0.0 & 0.0\\\\0.0 & 1.0 & 1.0 & 1.0 & 0.0\\\\0.0 & 2.0 & 4.0 & 3.0 & 0.0\\\\0.0 & 2.0 & 5.0 & 4.0 & 0.0\\\\0.0 & 0.0 & 0.0 & 0.0 & 0.0\\end{matrix}\\right]$"
     },
     "execution_count": 7,
     "metadata": {},
     "output_type": "execute_result"
    }
   ],
   "source": [
    "sp.Matrix(gaussian_filter(g, 3, 0.8, lambda x: round(x, 4)))\n",
    "sp.Matrix(gaussian_filter(g, 3, 0.8, lambda x: round(x)), dtype=int)"
   ],
   "metadata": {
    "collapsed": false,
    "ExecuteTime": {
     "end_time": "2024-12-15T04:58:06.608268800Z",
     "start_time": "2024-12-15T04:58:06.588193900Z"
    }
   },
   "id": "b6727891317c16ae",
   "execution_count": 7
  },
  {
   "cell_type": "markdown",
   "source": [
    "# 6.3高斯滤波器, $\\sigma=1$"
   ],
   "metadata": {
    "collapsed": false
   },
   "id": "3682189879ef1694"
  },
  {
   "cell_type": "code",
   "outputs": [
    {
     "data": {
      "text/plain": "Matrix([\n[0.0,    0.0,    0.0,    0.0, 0.0],\n[0.0, 0.7777,  1.642, 1.2762, 0.0],\n[0.0, 1.8929, 4.0961, 3.2085, 0.0],\n[0.0, 1.9701, 4.3205, 3.0983, 0.0],\n[0.0,    0.0,    0.0,    0.0, 0.0]])",
      "text/latex": "$\\displaystyle \\left[\\begin{matrix}0.0 & 0.0 & 0.0 & 0.0 & 0.0\\\\0.0 & 0.7777 & 1.642 & 1.2762 & 0.0\\\\0.0 & 1.8929 & 4.0961 & 3.2085 & 0.0\\\\0.0 & 1.9701 & 4.3205 & 3.0983 & 0.0\\\\0.0 & 0.0 & 0.0 & 0.0 & 0.0\\end{matrix}\\right]$"
     },
     "execution_count": 8,
     "metadata": {},
     "output_type": "execute_result"
    },
    {
     "data": {
      "text/plain": "Matrix([\n[0.0, 0.0, 0.0, 0.0, 0.0],\n[0.0, 1.0, 2.0, 1.0, 0.0],\n[0.0, 2.0, 4.0, 3.0, 0.0],\n[0.0, 2.0, 4.0, 3.0, 0.0],\n[0.0, 0.0, 0.0, 0.0, 0.0]])",
      "text/latex": "$\\displaystyle \\left[\\begin{matrix}0.0 & 0.0 & 0.0 & 0.0 & 0.0\\\\0.0 & 1.0 & 2.0 & 1.0 & 0.0\\\\0.0 & 2.0 & 4.0 & 3.0 & 0.0\\\\0.0 & 2.0 & 4.0 & 3.0 & 0.0\\\\0.0 & 0.0 & 0.0 & 0.0 & 0.0\\end{matrix}\\right]$"
     },
     "execution_count": 8,
     "metadata": {},
     "output_type": "execute_result"
    }
   ],
   "source": [
    "sp.Matrix(gaussian_filter(g, 3, 1, lambda x: round(x, 4)))\n",
    "sp.Matrix(gaussian_filter(g, 3, 1, lambda x: round(x)), dtype=int)\n"
   ],
   "metadata": {
    "collapsed": false,
    "ExecuteTime": {
     "end_time": "2024-12-15T04:58:06.632296300Z",
     "start_time": "2024-12-15T04:58:06.597431Z"
    }
   },
   "id": "a653d689fe98cd7f",
   "execution_count": 8
  },
  {
   "cell_type": "markdown",
   "source": [
    "# 生成6.4的图像"
   ],
   "metadata": {
    "collapsed": false
   },
   "id": "9f45cd632ade68b1"
  },
  {
   "cell_type": "code",
   "outputs": [
    {
     "data": {
      "text/plain": "Matrix([\n[ 1,  3, 6,  8,  6,  3],\n[15,  4, 7,  9,  8,  1],\n[13,  3, 5,  5,  7,  4],\n[ 3,  4, 0,  2,  5,  7],\n[ 6, 12, 3,  6,  9,  7],\n[ 9, 11, 3, 11, 14, 13]])",
      "text/latex": "$\\displaystyle \\left[\\begin{matrix}1 & 3 & 6 & 8 & 6 & 3\\\\15 & 4 & 7 & 9 & 8 & 1\\\\13 & 3 & 5 & 5 & 7 & 4\\\\3 & 4 & 0 & 2 & 5 & 7\\\\6 & 12 & 3 & 6 & 9 & 7\\\\9 & 11 & 3 & 11 & 14 & 13\\end{matrix}\\right]$"
     },
     "execution_count": 9,
     "metadata": {},
     "output_type": "execute_result"
    }
   ],
   "source": [
    "g = np.array([\n",
    "    [1, 3, 6, 8, 6, 3],\n",
    "    [15, 4, 7, 9, 8, 1],\n",
    "    [13, 3, 5, 5, 7, 4],\n",
    "    [3, 4, 0, 2, 5, 7],\n",
    "    [6, 12, 3, 6, 9, 7],\n",
    "    [9, 11, 3, 11, 14, 13]\n",
    "])\n",
    "sp.Matrix(g)"
   ],
   "metadata": {
    "collapsed": false,
    "ExecuteTime": {
     "end_time": "2024-12-15T04:58:06.634312700Z",
     "start_time": "2024-12-15T04:58:06.604787500Z"
    }
   },
   "id": "fe3b4dc2360b6762",
   "execution_count": 9
  },
  {
   "cell_type": "code",
   "outputs": [],
   "source": [
    "# 中值滤波器\n",
    "def median_filter(img, k=3):\n",
    "    H, W = img.shape\n",
    "    out = np.zeros((H, W), dtype=int)\n",
    "    for i in range(H):\n",
    "        for j in range(W):\n",
    "            if i < k//2 or i >= H-k//2 or j < k//2 or j >= W-k//2:\n",
    "                out[i, j] = img[i, j]\n",
    "            else:\n",
    "                out[i, j] = np.median(img[i-k//2:i+k//2+1, j-k//2:j+k//2+1])\n",
    "    return out\n"
   ],
   "metadata": {
    "collapsed": false,
    "ExecuteTime": {
     "end_time": "2024-12-15T04:58:06.634312700Z",
     "start_time": "2024-12-15T04:58:06.612042100Z"
    }
   },
   "id": "57a0384e5a82220e",
   "execution_count": 10
  },
  {
   "cell_type": "markdown",
   "source": [
    "# 6.4中值滤波器, 分别测试k=3,5下的滤波结果"
   ],
   "metadata": {
    "collapsed": false
   },
   "id": "e98f1ae1e7287d7d"
  },
  {
   "cell_type": "code",
   "outputs": [
    {
     "data": {
      "text/plain": "Matrix([\n[ 1,  3, 6,  8,  6,  3],\n[15,  5, 5,  7,  6,  1],\n[13,  4, 4,  5,  5,  4],\n[ 3,  4, 4,  5,  6,  7],\n[ 6,  4, 4,  5,  7,  7],\n[ 9, 11, 3, 11, 14, 13]])",
      "text/latex": "$\\displaystyle \\left[\\begin{matrix}1 & 3 & 6 & 8 & 6 & 3\\\\15 & 5 & 5 & 7 & 6 & 1\\\\13 & 4 & 4 & 5 & 5 & 4\\\\3 & 4 & 4 & 5 & 6 & 7\\\\6 & 4 & 4 & 5 & 7 & 7\\\\9 & 11 & 3 & 11 & 14 & 13\\end{matrix}\\right]$"
     },
     "execution_count": 11,
     "metadata": {},
     "output_type": "execute_result"
    },
    {
     "data": {
      "text/plain": "Matrix([\n[ 1,  3, 6,  8,  6,  3],\n[15,  4, 7,  9,  8,  1],\n[13,  3, 6,  5,  7,  4],\n[ 3,  4, 6,  6,  5,  7],\n[ 6, 12, 3,  6,  9,  7],\n[ 9, 11, 3, 11, 14, 13]])",
      "text/latex": "$\\displaystyle \\left[\\begin{matrix}1 & 3 & 6 & 8 & 6 & 3\\\\15 & 4 & 7 & 9 & 8 & 1\\\\13 & 3 & 6 & 5 & 7 & 4\\\\3 & 4 & 6 & 6 & 5 & 7\\\\6 & 12 & 3 & 6 & 9 & 7\\\\9 & 11 & 3 & 11 & 14 & 13\\end{matrix}\\right]$"
     },
     "execution_count": 11,
     "metadata": {},
     "output_type": "execute_result"
    }
   ],
   "source": [
    "sp.Matrix(median_filter(g, 3))\n",
    "sp.Matrix(median_filter(g, 5))"
   ],
   "metadata": {
    "collapsed": false,
    "ExecuteTime": {
     "end_time": "2024-12-15T04:58:06.635319600Z",
     "start_time": "2024-12-15T04:58:06.615634300Z"
    }
   },
   "id": "e977d06605b2f195",
   "execution_count": 11
  }
 ],
 "metadata": {
  "kernelspec": {
   "display_name": "Python 3",
   "language": "python",
   "name": "python3"
  },
  "language_info": {
   "codemirror_mode": {
    "name": "ipython",
    "version": 2
   },
   "file_extension": ".py",
   "mimetype": "text/x-python",
   "name": "python",
   "nbconvert_exporter": "python",
   "pygments_lexer": "ipython2",
   "version": "2.7.6"
  }
 },
 "nbformat": 4,
 "nbformat_minor": 5
}
